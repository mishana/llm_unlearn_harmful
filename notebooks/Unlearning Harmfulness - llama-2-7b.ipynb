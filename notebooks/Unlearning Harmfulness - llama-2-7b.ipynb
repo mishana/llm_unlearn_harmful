{
 "cells": [
  {
   "cell_type": "code",
   "execution_count": 7,
   "metadata": {},
   "outputs": [
    {
     "name": "stderr",
     "output_type": "stream",
     "text": [
      "Loading checkpoint shards: 100%|██████████| 2/2 [00:01<00:00,  1.62it/s]\n",
      "Downloading shards: 100%|██████████| 2/2 [00:00<00:00,  8.68it/s]\n",
      "Loading checkpoint shards: 100%|██████████| 2/2 [00:01<00:00,  1.64it/s]\n"
     ]
    }
   ],
   "source": [
    "from transformers import AutoTokenizer, pipeline, BitsAndBytesConfig, AutoModelForCausalLM\n",
    "import torch\n",
    "\n",
    "original_model_name = \"meta-llama/Llama-2-7b-hf\"\n",
    "unlearned_model_name = \"odnurih/Llama-2-7b-hf-unlearn-harm\"\n",
    "\n",
    "tokenizer = AutoTokenizer.from_pretrained(original_model_name)\n",
    "\n",
    "orig_model = AutoModelForCausalLM.from_pretrained(original_model_name, device_map=\"auto\")\n",
    "orig_generator = pipeline('text-generation', model=orig_model, tokenizer=tokenizer, max_new_tokens=50)\n",
    "\n",
    "unlearned_model = AutoModelForCausalLM.from_pretrained(unlearned_model_name, device_map=\"auto\")\n",
    "unlearned_generator = pipeline('text-generation', model=unlearned_model, tokenizer=tokenizer, max_new_tokens=50)"
   ]
  },
  {
   "cell_type": "code",
   "execution_count": 8,
   "metadata": {},
   "outputs": [
    {
     "name": "stdout",
     "output_type": "stream",
     "text": [
      "Sun Nov 19 15:05:04 2023       \n",
      "+-----------------------------------------------------------------------------+\n",
      "| NVIDIA-SMI 525.105.17   Driver Version: 525.105.17   CUDA Version: 12.0     |\n",
      "|-------------------------------+----------------------+----------------------+\n",
      "| GPU  Name        Persistence-M| Bus-Id        Disp.A | Volatile Uncorr. ECC |\n",
      "| Fan  Temp  Perf  Pwr:Usage/Cap|         Memory-Usage | GPU-Util  Compute M. |\n",
      "|                               |                      |               MIG M. |\n",
      "|===============================+======================+======================|\n",
      "|   0  NVIDIA L4           On   | 00000000:00:03.0 Off |                    0 |\n",
      "| N/A   60C    P0    31W /  72W |  12494MiB / 23034MiB |      0%      Default |\n",
      "|                               |                      |                  N/A |\n",
      "+-------------------------------+----------------------+----------------------+\n",
      "|   1  NVIDIA L4           On   | 00000000:00:04.0 Off |                    0 |\n",
      "| N/A   60C    P0    30W /  72W |  14588MiB / 23034MiB |      0%      Default |\n",
      "|                               |                      |                  N/A |\n",
      "+-------------------------------+----------------------+----------------------+\n",
      "|   2  NVIDIA L4           On   | 00000000:00:05.0 Off |                    0 |\n",
      "| N/A   64C    P0    32W /  72W |  14588MiB / 23034MiB |      0%      Default |\n",
      "|                               |                      |                  N/A |\n",
      "+-------------------------------+----------------------+----------------------+\n",
      "|   3  NVIDIA L4           On   | 00000000:00:06.0 Off |                    0 |\n",
      "| N/A   61C    P0    31W /  72W |  12478MiB / 23034MiB |      0%      Default |\n",
      "|                               |                      |                  N/A |\n",
      "+-------------------------------+----------------------+----------------------+\n",
      "                                                                               \n",
      "+-----------------------------------------------------------------------------+\n",
      "| Processes:                                                                  |\n",
      "|  GPU   GI   CI        PID   Type   Process name                  GPU Memory |\n",
      "|        ID   ID                                                   Usage      |\n",
      "|=============================================================================|\n",
      "|    0   N/A  N/A     28845      C   ...vs/llm_unlearn/bin/python    12492MiB |\n",
      "|    1   N/A  N/A     28845      C   ...vs/llm_unlearn/bin/python    14586MiB |\n",
      "|    2   N/A  N/A     28845      C   ...vs/llm_unlearn/bin/python    14586MiB |\n",
      "|    3   N/A  N/A     28845      C   ...vs/llm_unlearn/bin/python    12476MiB |\n",
      "+-----------------------------------------------------------------------------+\n"
     ]
    }
   ],
   "source": [
    "!nvidia-smi"
   ]
  }
 ],
 "metadata": {
  "kernelspec": {
   "display_name": "Python 3",
   "language": "python",
   "name": "python3"
  },
  "language_info": {
   "codemirror_mode": {
    "name": "ipython",
    "version": 3
   },
   "file_extension": ".py",
   "mimetype": "text/x-python",
   "name": "python",
   "nbconvert_exporter": "python",
   "pygments_lexer": "ipython3",
   "version": "3.10.13"
  }
 },
 "nbformat": 4,
 "nbformat_minor": 2
}
